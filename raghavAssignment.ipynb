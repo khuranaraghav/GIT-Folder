{
 "cells": [
  {
   "cell_type": "code",
   "execution_count": 1,
   "metadata": {},
   "outputs": [],
   "source": [
    "# Importing packages\n",
    "import pandas as pd\n",
    "from cassandra.cluster import Cluster"
   ]
  },
  {
   "cell_type": "code",
   "execution_count": 2,
   "metadata": {},
   "outputs": [],
   "source": [
    "#connect to cluster\n",
    "\n",
    "clstr = Cluster()\n",
    "session = clstr.connect()"
   ]
  },
  {
   "cell_type": "code",
   "execution_count": 4,
   "metadata": {},
   "outputs": [
    {
     "data": {
      "text/plain": [
       "<cassandra.cluster.ResultSet at 0x7fae6a4becd0>"
      ]
     },
     "execution_count": 4,
     "metadata": {},
     "output_type": "execute_result"
    }
   ],
   "source": [
    "#drop keyspace bd23\n",
    "\n",
    "session.execute(\"DROP KEYSPACE IF EXISTS bd23\")"
   ]
  },
  {
   "cell_type": "code",
   "execution_count": 5,
   "metadata": {},
   "outputs": [
    {
     "name": "stdout",
     "output_type": "stream",
     "text": [
      "system\n",
      "system_auth\n",
      "system_distributed\n",
      "system_schema\n",
      "system_traces\n",
      "system_views\n",
      "system_virtual_schema\n"
     ]
    }
   ],
   "source": [
    "#describe all keyspaces that exist\n",
    "rows = session.execute(\"desc keyspaces\")\n",
    "for row in rows:\n",
    "    print(f\"{row[0]}\")"
   ]
  },
  {
   "cell_type": "code",
   "execution_count": 6,
   "metadata": {},
   "outputs": [
    {
     "data": {
      "text/plain": [
       "<cassandra.cluster.ResultSet at 0x7fae6a43b2d0>"
      ]
     },
     "execution_count": 6,
     "metadata": {},
     "output_type": "execute_result"
    }
   ],
   "source": [
    "#create keyspace bd23\n",
    "\n",
    "session.execute(\"\"\"\n",
    "    CREATE KEYSPACE IF NOT EXISTS bd23 WITH REPLICATION = {\n",
    "        'class':'SimpleStrategy', \n",
    "        'replication_factor':3\n",
    "    }\n",
    "\n",
    "\"\"\")"
   ]
  },
  {
   "cell_type": "code",
   "execution_count": 7,
   "metadata": {},
   "outputs": [
    {
     "name": "stdout",
     "output_type": "stream",
     "text": [
      "bd23\n",
      "system\n",
      "system_auth\n",
      "system_distributed\n",
      "system_schema\n",
      "system_traces\n",
      "system_views\n",
      "system_virtual_schema\n"
     ]
    }
   ],
   "source": [
    "#check that keyspace bd23 is created by describing all keyspaces\n",
    "\n",
    "rows = session.execute(\"desc keyspaces\")\n",
    "for row in rows:\n",
    "    print(f\"{row[0]}\")"
   ]
  },
  {
   "cell_type": "code",
   "execution_count": 8,
   "metadata": {},
   "outputs": [
    {
     "data": {
      "text/plain": [
       "<cassandra.cluster.ResultSet at 0x7fae69f6b410>"
      ]
     },
     "execution_count": 8,
     "metadata": {},
     "output_type": "execute_result"
    }
   ],
   "source": [
    "# create a table to store inventory info\n",
    "\n",
    "session.execute(\"\"\"\n",
    "CREATE TABLE IF NOT EXISTS bd23.inventoryData ( \n",
    "    sku INT, \n",
    "    product_name TEXT, \n",
    "    description TEXT, \n",
    "    warehouse_num INT,\n",
    "    PRIMARY KEY(warehouse_num, sku, product_name)\n",
    ");\n",
    "\"\"\")"
   ]
  },
  {
   "cell_type": "code",
   "execution_count": 9,
   "metadata": {},
   "outputs": [
    {
     "data": {
      "text/html": [
       "<div>\n",
       "<style scoped>\n",
       "    .dataframe tbody tr th:only-of-type {\n",
       "        vertical-align: middle;\n",
       "    }\n",
       "\n",
       "    .dataframe tbody tr th {\n",
       "        vertical-align: top;\n",
       "    }\n",
       "\n",
       "    .dataframe thead th {\n",
       "        text-align: right;\n",
       "    }\n",
       "</style>\n",
       "<table border=\"1\" class=\"dataframe\">\n",
       "  <thead>\n",
       "    <tr style=\"text-align: right;\">\n",
       "      <th></th>\n",
       "      <th>sku</th>\n",
       "      <th>product_name</th>\n",
       "      <th>description</th>\n",
       "      <th>warehouse_num</th>\n",
       "    </tr>\n",
       "  </thead>\n",
       "  <tbody>\n",
       "    <tr>\n",
       "      <th>0</th>\n",
       "      <td>100000</td>\n",
       "      <td>'Wireless Keyboard'</td>\n",
       "      <td>'This wireless keyboard is great'</td>\n",
       "      <td>123</td>\n",
       "    </tr>\n",
       "    <tr>\n",
       "      <th>1</th>\n",
       "      <td>200000</td>\n",
       "      <td>'Wireless Mouse'</td>\n",
       "      <td>'This wireless mouse has great range'</td>\n",
       "      <td>123</td>\n",
       "    </tr>\n",
       "    <tr>\n",
       "      <th>2</th>\n",
       "      <td>300000</td>\n",
       "      <td>'Roku TV'</td>\n",
       "      <td>'4K 120Hz screen and internet connectivity'</td>\n",
       "      <td>227</td>\n",
       "    </tr>\n",
       "    <tr>\n",
       "      <th>3</th>\n",
       "      <td>400000</td>\n",
       "      <td>'HDMI Cable'</td>\n",
       "      <td>'Braided nylon super fast HDMI Cable'</td>\n",
       "      <td>301</td>\n",
       "    </tr>\n",
       "    <tr>\n",
       "      <th>4</th>\n",
       "      <td>500000</td>\n",
       "      <td>'Airpods'</td>\n",
       "      <td>'Roam tangle and cord-free with these airpods'</td>\n",
       "      <td>747</td>\n",
       "    </tr>\n",
       "    <tr>\n",
       "      <th>5</th>\n",
       "      <td>600000</td>\n",
       "      <td>'Tapestry'</td>\n",
       "      <td>'Night sky themed Boho Chic Tapestry'</td>\n",
       "      <td>404</td>\n",
       "    </tr>\n",
       "  </tbody>\n",
       "</table>\n",
       "</div>"
      ],
      "text/plain": [
       "      sku         product_name  \\\n",
       "0  100000  'Wireless Keyboard'   \n",
       "1  200000     'Wireless Mouse'   \n",
       "2  300000            'Roku TV'   \n",
       "3  400000         'HDMI Cable'   \n",
       "4  500000            'Airpods'   \n",
       "5  600000           'Tapestry'   \n",
       "\n",
       "                                      description  warehouse_num  \n",
       "0               'This wireless keyboard is great'            123  \n",
       "1           'This wireless mouse has great range'            123  \n",
       "2     '4K 120Hz screen and internet connectivity'            227  \n",
       "3           'Braided nylon super fast HDMI Cable'            301  \n",
       "4  'Roam tangle and cord-free with these airpods'            747  \n",
       "5           'Night sky themed Boho Chic Tapestry'            404  "
      ]
     },
     "execution_count": 9,
     "metadata": {},
     "output_type": "execute_result"
    }
   ],
   "source": [
    "# load the data from a csv file\n",
    "\n",
    "df = pd.read_csv('raghavData.csv')\n",
    "df"
   ]
  },
  {
   "cell_type": "code",
   "execution_count": 10,
   "metadata": {},
   "outputs": [
    {
     "name": "stdout",
     "output_type": "stream",
     "text": [
      "sku = 100000, product_name ='Wireless Keyboard', description = 'This wireless keyboard is great', warehouse_num = 123\n",
      "sku = 200000, product_name ='Wireless Mouse', description = 'This wireless mouse has great range', warehouse_num = 123\n",
      "sku = 300000, product_name ='Roku TV', description = '4K 120Hz screen and internet connectivity', warehouse_num = 227\n",
      "sku = 400000, product_name ='HDMI Cable', description = 'Braided nylon super fast HDMI Cable', warehouse_num = 301\n",
      "sku = 500000, product_name ='Airpods', description = 'Roam tangle and cord-free with these airpods', warehouse_num = 747\n",
      "sku = 600000, product_name ='Tapestry', description = 'Night sky themed Boho Chic Tapestry', warehouse_num = 404\n"
     ]
    }
   ],
   "source": [
    "# verify data \n",
    "\n",
    "for index, row in df.iterrows():\n",
    "    print(f\"sku = {row.sku}, product_name ={row.product_name}, description = {row.description}, warehouse_num = {row.warehouse_num}\")"
   ]
  },
  {
   "cell_type": "code",
   "execution_count": 11,
   "metadata": {},
   "outputs": [
    {
     "name": "stdout",
     "output_type": "stream",
     "text": [
      "\n",
      "        INSERT INTO bd23.inventoryData (sku, product_name, description, warehouse_num)     \n",
      "        VALUES (100000, 'Wireless Keyboard', 'This wireless keyboard is great', 123);\n",
      "        \n",
      "\n",
      "        INSERT INTO bd23.inventoryData (sku, product_name, description, warehouse_num)     \n",
      "        VALUES (200000, 'Wireless Mouse', 'This wireless mouse has great range', 123);\n",
      "        \n",
      "\n",
      "        INSERT INTO bd23.inventoryData (sku, product_name, description, warehouse_num)     \n",
      "        VALUES (300000, 'Roku TV', '4K 120Hz screen and internet connectivity', 227);\n",
      "        \n",
      "\n",
      "        INSERT INTO bd23.inventoryData (sku, product_name, description, warehouse_num)     \n",
      "        VALUES (400000, 'HDMI Cable', 'Braided nylon super fast HDMI Cable', 301);\n",
      "        \n",
      "\n",
      "        INSERT INTO bd23.inventoryData (sku, product_name, description, warehouse_num)     \n",
      "        VALUES (500000, 'Airpods', 'Roam tangle and cord-free with these airpods', 747);\n",
      "        \n",
      "\n",
      "        INSERT INTO bd23.inventoryData (sku, product_name, description, warehouse_num)     \n",
      "        VALUES (600000, 'Tapestry', 'Night sky themed Boho Chic Tapestry', 404);\n",
      "        \n"
     ]
    }
   ],
   "source": [
    "#view and insert data \n",
    "\n",
    "for index, row in df.iterrows():\n",
    "    print(f\"\"\"\n",
    "        INSERT INTO bd23.inventoryData (sku, product_name, description, warehouse_num)     \n",
    "        VALUES ({row.sku}, {row.product_name}, {row.description}, {row.warehouse_num});\n",
    "        \"\"\"\n",
    "    )\n",
    "    session.execute(f\"\"\"\n",
    "        INSERT INTO bd23.inventoryData (sku, product_name, description, warehouse_num)     \n",
    "        VALUES ({row.sku}, {row.product_name}, {row.description}, {row.warehouse_num});\n",
    "        \"\"\"\n",
    "    )"
   ]
  },
  {
   "cell_type": "code",
   "execution_count": 12,
   "metadata": {},
   "outputs": [
    {
     "name": "stdout",
     "output_type": "stream",
     "text": [
      "100000, Wireless Keyboard, This wireless keyboard is great, 123\n",
      "200000, Wireless Mouse, This wireless mouse has great range, 123\n"
     ]
    }
   ],
   "source": [
    "# query all products at warehouse 123\n",
    "\n",
    "rows = session.execute(\"select (sku, product_name, description, warehouse_num) from bd23.inventoryData where warehouse_num = 123\")\n",
    "for row in rows:\n",
    "    print(f\"{row[0][0]}, {row[0][1]}, {row[0][2]}, {row[0][3]}\")"
   ]
  }
 ],
 "metadata": {
  "kernelspec": {
   "display_name": "bd",
   "language": "python",
   "name": "python3"
  },
  "language_info": {
   "codemirror_mode": {
    "name": "ipython",
    "version": 3
   },
   "file_extension": ".py",
   "mimetype": "text/x-python",
   "name": "python",
   "nbconvert_exporter": "python",
   "pygments_lexer": "ipython3",
   "version": "3.11.5"
  },
  "orig_nbformat": 4
 },
 "nbformat": 4,
 "nbformat_minor": 2
}
